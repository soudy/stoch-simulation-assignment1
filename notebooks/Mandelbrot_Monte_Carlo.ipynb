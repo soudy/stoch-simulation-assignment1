{
 "cells": [
  {
   "cell_type": "markdown",
   "id": "69b06fca",
   "metadata": {},
   "source": [
    "# Mandelbrot Set\n",
    "The Mandelbrot set is the set of complex numbers $c$ for which the absolute value of the sequence $z_n$ remains bounded for all $n > 0$, where $z_n$ is:\n",
    "$$\n",
    "\\begin{align}\n",
    "z_0 &= 0, \\\\\n",
    "z_{n+1} &= z_n^2 + c.\n",
    "\\end{align}\n",
    "$$\n",
    "For any complex number $c$, one of two things will happen:\n",
    "- The sequence blows up to infinity ($|z_n| \\gt 2$)\n",
    "- The sequence if bounded ($|z_n| \\le 2$)\n",
    "\n",
    "Then, $c$ belongs to the Mandelbrot set $M$ if the second case ($|z_n| \\le 2$) holds:\n",
    "$$\n",
    "M = \\{c \\in \\mathbb{C} \\mid \\lvert z_n \\rvert \\le 2 \\}.\n",
    "$$"
   ]
  },
  {
   "cell_type": "code",
   "execution_count": 51,
   "id": "804f132d",
   "metadata": {},
   "outputs": [],
   "source": [
    "#imports\n",
    "import numpy as np\n",
    "import matplotlib.pyplot as plt\n",
    "import matplotlib as mpl\n",
    "\n",
    "# plot settings\n",
    "mpl.rcParams[\"figure.dpi\"] = 180\n",
    "mpl.rcParams[\"legend.fontsize\"] = 11\n",
    "mpl.rcParams[\"font.size\"] = 11\n",
    "plt.rc(\"text\", usetex=True)\n",
    "plt.rc(\"text.latex\", preamble=r\"\"\"\n",
    "\\usepackage{palatino}\n",
    "\\usepackage{newpxmath}\"\"\")\n",
    "plt.rc(\"font\", family=\"serif\")"
   ]
  },
  {
   "cell_type": "code",
   "execution_count": 52,
   "id": "a43df49e",
   "metadata": {},
   "outputs": [],
   "source": [
    "from cpp_stoch import (\n",
    "    f_c as f_c_cpp,\n",
    "    mandelbrot_grid,\n",
    "    set_num_threads,\n",
    "    get_num_threads\n",
    ")"
   ]
  },
  {
   "cell_type": "code",
   "execution_count": 53,
   "id": "85a2321d",
   "metadata": {},
   "outputs": [],
   "source": [
    "def Monte_carlo(sample_size, max_iter):\n",
    "    X_LB, X_UP = -2, 1\n",
    "    Y_LB, Y_UP = -1.12, 1.12\n",
    "    \n",
    "    samples_in_set = 0\n",
    "    for i in range(sample_size):\n",
    "        x = np.random.uniform(X_LB, X_UP)\n",
    "        y = np.random.uniform(Y_LB, Y_UP)\n",
    "        c = complex(x, y)\n",
    "        \n",
    "        (z, j) = f_c_cpp(c, max_iter, 2)\n",
    "        \n",
    "        #Check if it is in set:  |z| <= 2\n",
    "        if (j == max_iter):\n",
    "            samples_in_set += 1\n",
    "    \n",
    "    fraction = samples_in_set/sample_size\n",
    "    Approx_area = (X_UP - X_LB)*(Y_UP - Y_LB)*fraction\n",
    "    return Approx_area "
   ]
  },
  {
   "cell_type": "code",
   "execution_count": 54,
   "id": "428cfe71",
   "metadata": {},
   "outputs": [
    {
     "data": {
      "text/plain": [
       "(1.4817600000000002, 1.5361920000000002, 1.5019200000000001)"
      ]
     },
     "execution_count": 54,
     "metadata": {},
     "output_type": "execute_result"
    }
   ],
   "source": [
    "#Stochastic!\n",
    "Monte_carlo(sample_size = 20000, max_iter = 100000),\\\n",
    "Monte_carlo(sample_size = 20000, max_iter = 100000),\\\n",
    "Monte_carlo(sample_size = 20000, max_iter = 100000)"
   ]
  },
  {
   "cell_type": "code",
   "execution_count": 55,
   "id": "da630af0",
   "metadata": {},
   "outputs": [],
   "source": [
    "import multiprocessing as mp\n",
    "import queue\n",
    "\n",
    "def S_iter(max_iter, n_runs, S_min_exp, S_max_exp):\n",
    "    manager = mp.Manager()\n",
    "    \n",
    "    Approx_areas_list = manager.list()  \n",
    "    sample_size_range = np.logspace(S_min_exp, S_max_exp, num = (S_max_exp - S_min_exp) + 1, dtype = int)\n",
    "    \n",
    "    work_queue = mp.Queue()\n",
    "    for i in range(n_runs):\n",
    "        Approx_areas_list.append(manager.list())\n",
    "        for sample_size in sample_size_range:\n",
    "            work_queue.put((sample_size, i))\n",
    "        \n",
    "    \n",
    "    def worker(q, d):\n",
    "        while True:\n",
    "            try:\n",
    "                sample_size, i = q.get_nowait()\n",
    "            except queue.Empty:\n",
    "                break\n",
    "                \n",
    "            Approx_area = Monte_carlo(sample_size = sample_size, max_iter = max_iter)\n",
    "            d[i].append(Approx_area)\n",
    "            \n",
    "    processes = []\n",
    "    for i in range(mp.cpu_count()):\n",
    "        p = mp.Process(target=worker, args=(work_queue, Approx_areas_list))\n",
    "        p.daemon = True\n",
    "        p.start()\n",
    "        processes.append(p)\n",
    "\n",
    "    for p in processes:\n",
    "        p.join()\n",
    "    \n",
    "    return [list(v) for v in Approx_areas_list], sample_size_range        "
   ]
  },
  {
   "cell_type": "code",
   "execution_count": 56,
   "id": "4b4c9625",
   "metadata": {},
   "outputs": [],
   "source": [
    "def Plotter_S(Approx_areas_list, sample_size_range):\n",
    "    Approx_areas_list_array = np.array(Approx_areas_list)\n",
    "    Area_means = np.mean(Approx_areas_list_array, axis = 0)\n",
    "    Area_std = np.std(Approx_areas_list_array, axis = 0)\n",
    "    Error = np.abs(Area_means - Area_means[-1])\n",
    "\n",
    "\n",
    "    std_lower = Area_means - Area_std\n",
    "    std_upper = Area_means + Area_std\n",
    "    \n",
    "    fig,ax = plt.subplots()\n",
    "    ax.plot(sample_size_range, Area_means, color = \"red\")\n",
    "    ax.fill_between(sample_size_range, std_lower, std_upper, color='red', alpha=0.1)\n",
    "\n",
    "    ax2=ax.twinx()\n",
    "    ax2.plot(sample_size_range, Error, color = \"black\", linestyle='dashed')\n",
    "    \n",
    "    \n",
    "    ax.set_xlabel(\"Number of samples ($s$)\")\n",
    "    ax.set_xscale('log')\n",
    "    ax.set_ylabel(\"Mean approximated area\")\n",
    "    ax.set_ylim(std_lower-0.1, std_upper+0.1)\n",
    "    ax2.set_ylabel(\"Difference mean area $\\\\left(\\\\left\\\\lvert A_j - A_i\\\\right\\\\rvert\\\\right)$\")\n",
    "\n",
    "    plt.grid(alpha=0.7)\n",
    "    plt.show()"
   ]
  },
  {
   "cell_type": "code",
   "execution_count": 57,
   "id": "e7f5da59",
   "metadata": {},
   "outputs": [
    {
     "name": "stdout",
     "output_type": "stream",
     "text": [
      "CPU times: user 97 ms, sys: 28 ms, total: 125 ms\n",
      "Wall time: 11min 16s\n"
     ]
    }
   ],
   "source": [
    "%%time\n",
    "Approx_areas_list, sample_size_range = S_iter(max_iter = int(1e3), n_runs = 20, S_min_exp = 3, S_max_exp = 7)"
   ]
  },
  {
   "cell_type": "code",
   "execution_count": 58,
   "id": "4f55fbc6",
   "metadata": {},
   "outputs": [],
   "source": [
    "Approx_areas_list_array = np.array(Approx_areas_list)\n",
    "Area_means = np.mean(Approx_areas_list_array, axis = 0)\n",
    "Area_std = np.std(Approx_areas_list_array, axis = 0)\n",
    "Error = np.abs(Area_means - Area_means[-1])"
   ]
  },
  {
   "cell_type": "code",
   "execution_count": 59,
   "id": "9404b0a6",
   "metadata": {},
   "outputs": [
    {
     "name": "stdout",
     "output_type": "stream",
     "text": [
      "Means:  [1.497888   1.509144   1.50814608 1.51034083 1.5106307 ]\n",
      "Error:  [0.0127427  0.0014867  0.00248462 0.00028987 0.        ]\n",
      "Std:  [0.10470916 0.02610171 0.00901756 0.00233764 0.00080384]\n"
     ]
    }
   ],
   "source": [
    "print(\"Means: \", Area_means)\n",
    "print(\"Error: \", Error)\n",
    "print(\"Std: \", Area_std)"
   ]
  },
  {
   "cell_type": "code",
   "execution_count": 60,
   "id": "bd72b30c",
   "metadata": {},
   "outputs": [
    {
     "data": {
      "image/png": "[encoded data removed]",
      "text/plain": [
       "<Figure size 1080x720 with 2 Axes>"
      ]
     },
     "metadata": {
      "needs_background": "light"
     },
     "output_type": "display_data"
    }
   ],
   "source": [
    "Plotter_S(Approx_areas_list, sample_size_range)"
   ]
  },
  {
   "cell_type": "markdown",
   "id": "5c3c52fe",
   "metadata": {},
   "source": [
    "Comments on this plot: This plot is needed to show that we picked the right values for S and I. I do not think this should be a final plot and I have my doubts. This plots main idea is to show convergence of the final value, both in the standard deviation and in the difference with final value. To make this a better plot the n_vars and number of steps needs to be increased way more. We could potentially also muliple lines for different values of the fixed iteration number. "
   ]
  },
  {
   "cell_type": "code",
   "execution_count": 61,
   "id": "c0e548c7",
   "metadata": {},
   "outputs": [],
   "source": [
    "def I_iter(sample_size, n_runs, I_min_exp, I_max_exp):\n",
    "    manager = mp.Manager()\n",
    "\n",
    "    Approx_areas_list = manager.list()  \n",
    "    iteration_range = np.logspace(I_min_exp, I_max_exp, num = (I_max_exp - I_min_exp) + 1, dtype = int)\n",
    "\n",
    "    work_queue = mp.Queue()\n",
    "    for i in range(n_runs):\n",
    "        Approx_areas_list.append(manager.list())\n",
    "        for max_iter in iteration_range:\n",
    "            work_queue.put((max_iter, i))\n",
    "\n",
    "\n",
    "    def worker(q, d):\n",
    "        while True:\n",
    "            try:\n",
    "                max_iter, i = q.get_nowait()\n",
    "            except queue.Empty:\n",
    "                break\n",
    "\n",
    "            Approx_area = Monte_carlo(sample_size = sample_size, max_iter = max_iter)\n",
    "            d[i].append(Approx_area)\n",
    "\n",
    "    processes = []\n",
    "    for i in range(mp.cpu_count()):\n",
    "        p = mp.Process(target=worker, args=(work_queue, Approx_areas_list))\n",
    "        p.daemon = True\n",
    "        p.start()\n",
    "        processes.append(p)\n",
    "\n",
    "    for p in processes:\n",
    "        p.join()\n",
    "\n",
    "    return [list(v) for v in Approx_areas_list], iteration_range"
   ]
  },
  {
   "cell_type": "code",
   "execution_count": 62,
   "id": "06e52396",
   "metadata": {},
   "outputs": [],
   "source": [
    "def Plotter_I(Approx_areas_list, iteration_range):\n",
    "    Approx_areas_list_array = np.array(Approx_areas_list)\n",
    "    Area_means = np.mean(Approx_areas_list_array, axis = 0)\n",
    "    Area_std = np.std(Approx_areas_list_array, axis = 0)\n",
    "    Error = np.abs(Area_means - Area_means[-1])\n",
    "\n",
    "\n",
    "    std_lower = Area_means - Area_std\n",
    "    std_upper = Area_means + Area_std\n",
    "    \n",
    "    fig,ax = plt.subplots()\n",
    "    ax.plot(iteration_range, Area_means, color = \"red\")\n",
    "    ax.fill_between(iteration_range, std_lower, std_upper, color='red', alpha=0.1)\n",
    "\n",
    "    ax2=ax.twinx()\n",
    "    ax2.plot(iteration_range, Error, color = \"black\", linestyle='dashed')\n",
    "    \n",
    "    \n",
    "    ax.set_xlabel(\"Number of iteration ($i$)\")\n",
    "    ax.set_xscale('log')\n",
    "    ax.set_ylabel(\"Mean approximated area\")\n",
    "    ax.set_ylim(1.4, 1.6)\n",
    "    ax2.set_ylabel(\"Difference mean area $\\\\left(\\\\left\\\\lvert A_j - A_i\\\\right\\\\rvert\\\\right)$\")\n",
    "\n",
    "    plt.grid()\n",
    "    plt.show()"
   ]
  },
  {
   "cell_type": "code",
   "execution_count": null,
   "id": "5acf64ad",
   "metadata": {},
   "outputs": [],
   "source": [
    "%%time\n",
    "Approx_areas_list_I, iteration_range_I = I_iter(sample_size = int(1e4), n_runs = 10, I_min_exp = 3, I_max_exp = 7)"
   ]
  },
  {
   "cell_type": "code",
   "execution_count": null,
   "id": "a47ef0ce",
   "metadata": {},
   "outputs": [],
   "source": [
    "Approx_areas_list_array_I = np.array(Approx_areas_list_I)\n",
    "Area_means_I = np.mean(Approx_areas_list_array_I, axis = 0)\n",
    "Area_std_I = np.std(Approx_areas_list_array_I, axis = 0)\n",
    "Error_I = np.abs(Area_means_I - Area_means_I[-1])"
   ]
  },
  {
   "cell_type": "code",
   "execution_count": null,
   "id": "9ac9ed25",
   "metadata": {},
   "outputs": [],
   "source": [
    "print(\"Means: \", Area_means_I)\n",
    "print(\"Error: \", Error_I)\n",
    "print(\"Std: \", Area_std_I)"
   ]
  },
  {
   "cell_type": "code",
   "execution_count": null,
   "id": "67cea502",
   "metadata": {},
   "outputs": [],
   "source": [
    "Plotter_I(Approx_areas_list_I, iteration_range_I)"
   ]
  },
  {
   "cell_type": "markdown",
   "id": "c5cad4e2",
   "metadata": {},
   "source": [
    "Comment on plot: The size of the standard deviation is caused by the sample size, so that won't change. IT is strange though that the number of iterations has very little impact on convergence. Either we need to increase the amount of samples and runs (perhaps the variability is caused by not an accurate representation), or perhaps the number of iterations has little impact. I could also increase it still, but it takes quite a while to run. "
   ]
  },
  {
   "cell_type": "code",
   "execution_count": null,
   "id": "cd029fb8",
   "metadata": {},
   "outputs": [],
   "source": []
  }
 ],
 "metadata": {
  "kernelspec": {
   "display_name": "Python 3 (ipykernel)",
   "language": "python",
   "name": "python3"
  },
  "language_info": {
   "codemirror_mode": {
    "name": "ipython",
    "version": 3
   },
   "file_extension": ".py",
   "mimetype": "text/x-python",
   "name": "python",
   "nbconvert_exporter": "python",
   "pygments_lexer": "ipython3",
   "version": "3.8.10"
  }
 },
 "nbformat": 4,
 "nbformat_minor": 5
}
