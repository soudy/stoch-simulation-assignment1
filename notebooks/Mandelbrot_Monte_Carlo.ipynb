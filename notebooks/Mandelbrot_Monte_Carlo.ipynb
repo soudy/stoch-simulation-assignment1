{
 "cells": [
  {
   "cell_type": "markdown",
   "id": "69b06fca",
   "metadata": {},
   "source": [
    "# Mandelbrot Set\n",
    "The Mandelbrot set is the set of complex numbers $c$ for which the absolute value of the sequence $z_n$ remains bounded for all $n > 0$, where $z_n$ is:\n",
    "$$\n",
    "\\begin{align}\n",
    "z_0 &= 0, \\\\\n",
    "z_{n+1} &= z_n^2 + c.\n",
    "\\end{align}\n",
    "$$\n",
    "For any complex number $c$, one of two things will happen:\n",
    "- The sequence blows up to infinity ($|z_n| \\gt 2$)\n",
    "- The sequence if bounded ($|z_n| \\le 2$)\n",
    "\n",
    "Then, $c$ belongs to the Mandelbrot set $M$ if the second case ($|z_n| \\le 2$) holds:\n",
    "$$\n",
    "M = \\{c \\in \\mathbb{C} \\mid \\lvert z_n \\rvert \\le 2 \\}.\n",
    "$$"
   ]
  },
  {
   "cell_type": "code",
   "execution_count": 2,
   "id": "804f132d",
   "metadata": {},
   "outputs": [],
   "source": [
    "#imports\n",
    "import numpy as np"
   ]
  },
  {
   "cell_type": "code",
   "execution_count": 3,
   "id": "a43df49e",
   "metadata": {},
   "outputs": [],
   "source": [
    "from cpp_stoch import (\n",
    "    f_c as f_c_cpp,\n",
    "    mandelbrot_grid,\n",
    "    set_num_threads,\n",
    "    get_num_threads\n",
    ")"
   ]
  },
  {
   "cell_type": "code",
   "execution_count": 4,
   "id": "85a2321d",
   "metadata": {},
   "outputs": [],
   "source": [
    "def Monte_carlo(sample_size, max_iter):\n",
    "    X_LB, X_UP = -2, 1\n",
    "    Y_LB, Y_UP = -1.12, 1.12\n",
    "    \n",
    "    samples_in_set = 0\n",
    "    for i in range(sample_size):\n",
    "        x = np.random.uniform(-2, 1)\n",
    "        y = np.random.uniform(-1.12, 1.12)\n",
    "        c = complex(x,y)\n",
    "        \n",
    "        End_value_tuple = f_c_cpp(c, max_iter, 2)\n",
    "        x_final = End_value_tuple[0].real\n",
    "        y_final = End_value_tuple[0].imag\n",
    "        \n",
    "        #Check if it is in set:  |z| <= 2\n",
    "        if ((x_final**2 + y_final**2) <=  4):\n",
    "            samples_in_set += 1\n",
    "    \n",
    "    fraction = samples_in_set/sample_size\n",
    "    Approx_area = (X_UP - X_LB)*(Y_UP - Y_LB)*fraction\n",
    "    return Approx_area "
   ]
  },
  {
   "cell_type": "code",
   "execution_count": 14,
   "id": "428cfe71",
   "metadata": {},
   "outputs": [
    {
     "data": {
      "text/plain": [
       "(1.4535360000000002, 1.497552, 1.5039360000000002)"
      ]
     },
     "execution_count": 14,
     "metadata": {},
     "output_type": "execute_result"
    }
   ],
   "source": [
    "#Stochastic!\n",
    "Monte_carlo(sample_size = 20000, max_iter = 1000000),\\\n",
    "Monte_carlo(sample_size = 20000, max_iter = 1000000),\\\n",
    "Monte_carlo(sample_size = 20000, max_iter = 1000000)"
   ]
  },
  {
   "cell_type": "code",
   "execution_count": 9,
   "id": "da630af0",
   "metadata": {},
   "outputs": [
    {
     "ename": "SyntaxError",
     "evalue": "invalid syntax (Temp/ipykernel_14052/1664467795.py, line 3)",
     "output_type": "error",
     "traceback": [
      "\u001b[1;36m  File \u001b[1;32m\"C:\\Users\\malou\\AppData\\Local\\Temp/ipykernel_14052/1664467795.py\"\u001b[1;36m, line \u001b[1;32m3\u001b[0m\n\u001b[1;33m    sample_size_range = ??\u001b[0m\n\u001b[1;37m                        ^\u001b[0m\n\u001b[1;31mSyntaxError\u001b[0m\u001b[1;31m:\u001b[0m invalid syntax\n"
     ]
    }
   ],
   "source": [
    "def Test_plot(max_iter = 100):\n",
    "    Approx_area_list = []\n",
    "    sample_size_range = ??\n",
    "    for sample_size in Monte_carlo(sample_size = 200, max_iter = 100):\n",
    "        Monte_carlo(sample_size = 200, max_iter = 100)\n",
    "        "
   ]
  },
  {
   "cell_type": "code",
   "execution_count": null,
   "id": "e7f5da59",
   "metadata": {},
   "outputs": [],
   "source": []
  }
 ],
 "metadata": {
  "kernelspec": {
   "display_name": "Python 3 (ipykernel)",
   "language": "python",
   "name": "python3"
  },
  "language_info": {
   "codemirror_mode": {
    "name": "ipython",
    "version": 3
   },
   "file_extension": ".py",
   "mimetype": "text/x-python",
   "name": "python",
   "nbconvert_exporter": "python",
   "pygments_lexer": "ipython3",
   "version": "3.8.12"
  }
 },
 "nbformat": 4,
 "nbformat_minor": 5
}
