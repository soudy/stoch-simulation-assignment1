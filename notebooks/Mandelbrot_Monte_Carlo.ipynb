{
 "cells": [
  {
   "cell_type": "markdown",
   "id": "69b06fca",
   "metadata": {},
   "source": [
    "# Mandelbrot Set\n",
    "The Mandelbrot set is the set of complex numbers $c$ for which the absolute value of the sequence $z_n$ remains bounded for all $n > 0$, where $z_n$ is:\n",
    "$$\n",
    "\\begin{align}\n",
    "z_0 &= 0, \\\\\n",
    "z_{n+1} &= z_n^2 + c.\n",
    "\\end{align}\n",
    "$$\n",
    "For any complex number $c$, one of two things will happen:\n",
    "- The sequence blows up to infinity ($|z_n| \\gt 2$)\n",
    "- The sequence if bounded ($|z_n| \\le 2$)\n",
    "\n",
    "Then, $c$ belongs to the Mandelbrot set $M$ if the second case ($|z_n| \\le 2$) holds:\n",
    "$$\n",
    "M = \\{c \\in \\mathbb{C} \\mid \\lvert z_n \\rvert \\le 2 \\}.\n",
    "$$"
   ]
  },
  {
   "cell_type": "code",
   "execution_count": 87,
   "id": "804f132d",
   "metadata": {},
   "outputs": [],
   "source": [
    "#imports\n",
    "import numpy as np\n",
    "import matplotlib.pyplot as plt\n"
   ]
  },
  {
   "cell_type": "code",
   "execution_count": 66,
   "id": "a43df49e",
   "metadata": {},
   "outputs": [],
   "source": [
    "from cpp_stoch import (\n",
    "    f_c as f_c_cpp,\n",
    "    mandelbrot_grid,\n",
    "    set_num_threads,\n",
    "    get_num_threads\n",
    ")"
   ]
  },
  {
   "cell_type": "code",
   "execution_count": 67,
   "id": "85a2321d",
   "metadata": {},
   "outputs": [],
   "source": [
    "def Monte_carlo(sample_size, max_iter):\n",
    "    X_LB, X_UP = -2, 1\n",
    "    Y_LB, Y_UP = -1.12, 1.12\n",
    "    \n",
    "    samples_in_set = 0\n",
    "    for i in range(sample_size):\n",
    "        x = np.random.uniform(-2, 1)\n",
    "        y = np.random.uniform(-1.12, 1.12)\n",
    "        c = complex(x,y)\n",
    "        \n",
    "        End_value_tuple = f_c_cpp(c, max_iter, 2)\n",
    "        x_final = End_value_tuple[0].real\n",
    "        y_final = End_value_tuple[0].imag\n",
    "        \n",
    "        #Check if it is in set:  |z| <= 2\n",
    "        if ((x_final**2 + y_final**2) <=  4):\n",
    "            samples_in_set += 1\n",
    "    \n",
    "    fraction = samples_in_set/sample_size\n",
    "    Approx_area = (X_UP - X_LB)*(Y_UP - Y_LB)*fraction\n",
    "    return Approx_area "
   ]
  },
  {
   "cell_type": "code",
   "execution_count": 69,
   "id": "428cfe71",
   "metadata": {},
   "outputs": [
    {
     "data": {
      "text/plain": [
       "(1.509648, 1.4992320000000001, 1.4693280000000002)"
      ]
     },
     "execution_count": 69,
     "metadata": {},
     "output_type": "execute_result"
    }
   ],
   "source": [
    "#Stochastic!\n",
    "Monte_carlo(sample_size = 20000, max_iter = 100000),\\\n",
    "Monte_carlo(sample_size = 20000, max_iter = 100000),\\\n",
    "Monte_carlo(sample_size = 20000, max_iter = 100000)"
   ]
  },
  {
   "cell_type": "code",
   "execution_count": 137,
   "id": "da630af0",
   "metadata": {},
   "outputs": [],
   "source": [
    "def S_iter(max_iter, n_runs, S_min_exp, S_max_exp):\n",
    "    Approx_areas_list = []\n",
    "    sample_size_range = np.logspace(S_min_exp, S_max_exp, num = (S_max_exp - S_min_exp) + 1, dtype = int)\n",
    "   \n",
    "    for run in range(n_runs): \n",
    "        Approx_area_list = []\n",
    "        \n",
    "        for sample_size in sample_size_range:\n",
    "            Approx_area = Monte_carlo(sample_size = sample_size, max_iter = max_iter)\n",
    "            Approx_area_list.append(Approx_area)  \n",
    "        \n",
    "        Approx_areas_list.append(Approx_area_list)\n",
    "            \n",
    "    return Approx_areas_list, sample_size_range\n",
    "        "
   ]
  },
  {
   "cell_type": "code",
   "execution_count": 177,
   "id": "4b4c9625",
   "metadata": {},
   "outputs": [],
   "source": [
    "def Plotter_S(Approx_areas_list, sample_size_range):\n",
    "    Approx_areas_list_array = np.array(Approx_areas_list)\n",
    "    Area_means = np.mean(Approx_areas_list_array, axis = 0)\n",
    "    Area_std = np.std(Approx_areas_list_array, axis = 0)\n",
    "    Error = np.abs(Area_means - Area_means[-1])\n",
    "\n",
    "\n",
    "    std_lower = Area_means - Area_std\n",
    "    std_upper = Area_means + Area_std\n",
    "    \n",
    "    fig,ax = plt.subplots()\n",
    "    ax.plot(sample_size_range, Area_means, color = \"red\")\n",
    "    ax.fill_between(sample_size_range, std_lower, std_upper, color='red', alpha=0.1)\n",
    "\n",
    "    ax2=ax.twinx()\n",
    "    ax2.plot(sample_size_range, Error, color = \"black\", linestyle='dashed')\n",
    "    \n",
    "    \n",
    "    ax.set_xlabel(\"Number of samples (S)\")\n",
    "    ax.set_xscale('log')\n",
    "    ax.set_ylabel(\"Mean approximated area\")\n",
    "    ax.set_ylim(1.4, 1.6)\n",
    "    ax2.set_ylabel(\"Difference mean area (|Aj - Ai|)\")\n",
    "\n",
    "    plt.grid()\n",
    "    plt.show()"
   ]
  },
  {
   "cell_type": "code",
   "execution_count": 183,
   "id": "e7f5da59",
   "metadata": {},
   "outputs": [
    {
     "name": "stdout",
     "output_type": "stream",
     "text": [
      "Wall time: 22min 27s\n"
     ]
    }
   ],
   "source": [
    "%%time\n",
    "Approx_areas_list, sample_size_range = S_iter(max_iter = int(1e3), n_runs = 20, S_min_exp = 3, S_max_exp = 7)"
   ]
  },
  {
   "cell_type": "code",
   "execution_count": 185,
   "id": "4f55fbc6",
   "metadata": {},
   "outputs": [],
   "source": [
    "Approx_areas_list_array = np.array(Approx_areas_list)\n",
    "Area_means = np.mean(Approx_areas_list_array, axis = 0)\n",
    "Area_std = np.std(Approx_areas_list_array, axis = 0)\n",
    "Error = np.abs(Area_means - Area_means[-1])"
   ]
  },
  {
   "cell_type": "code",
   "execution_count": 186,
   "id": "9404b0a6",
   "metadata": {},
   "outputs": [
    {
     "name": "stdout",
     "output_type": "stream",
     "text": [
      "Means:  [1.541904   1.5090096  1.51064928 1.50835642 1.50966719]\n",
      "Error:  [0.03223681 0.00065759 0.00098209 0.00131077 0.        ]\n",
      "Std:  [0.06887508 0.0274695  0.00795799 0.00344274 0.00076772]\n"
     ]
    }
   ],
   "source": [
    "print(\"Means: \", Area_means)\n",
    "print(\"Error: \", Error)\n",
    "print(\"Std: \", Area_std)"
   ]
  },
  {
   "cell_type": "code",
   "execution_count": 187,
   "id": "bd72b30c",
   "metadata": {},
   "outputs": [
    {
     "data": {
      "image/png": "[encoded data removed]",
      "text/plain": [
       "<Figure size 432x288 with 2 Axes>"
      ]
     },
     "metadata": {
      "needs_background": "light"
     },
     "output_type": "display_data"
    }
   ],
   "source": [
    "Plotter_S(Approx_areas_list, sample_size_range)"
   ]
  },
  {
   "cell_type": "markdown",
   "id": "5c3c52fe",
   "metadata": {},
   "source": [
    "Comments on this plot: This plot is needed to show that we picked the right values for S and I. I do not think this should be a final plot and I have my doubts. This plots main idea is to show convergence of the final value, both in the standard deviation and in the difference with final value. To make this a better plot the n_vars and number of steps needs to be increased way more. We could potentially also muliple lines for different values of the fixed iteration number. "
   ]
  },
  {
   "cell_type": "code",
   "execution_count": 188,
   "id": "c0e548c7",
   "metadata": {},
   "outputs": [],
   "source": [
    "def I_iter(sample_size, n_runs, I_min_exp, I_max_exp):\n",
    "    Approx_areas_list = []\n",
    "    iteration_range = np.logspace(I_min_exp, I_max_exp, num = (I_max_exp - I_min_exp) + 1, dtype = int)\n",
    "   \n",
    "    for run in range(n_runs): \n",
    "        Approx_area_list = []\n",
    "        \n",
    "        for max_iter in iteration_range:\n",
    "            Approx_area = Monte_carlo(sample_size = sample_size, max_iter = max_iter)\n",
    "            Approx_area_list.append(Approx_area)  \n",
    "        \n",
    "        Approx_areas_list.append(Approx_area_list)\n",
    "            \n",
    "    return Approx_areas_list, iteration_range\n",
    "\n",
    "\n"
   ]
  },
  {
   "cell_type": "code",
   "execution_count": 223,
   "id": "06e52396",
   "metadata": {},
   "outputs": [],
   "source": [
    "def Plotter_I(Approx_areas_list, iteration_range):\n",
    "    Approx_areas_list_array = np.array(Approx_areas_list)\n",
    "    Area_means = np.mean(Approx_areas_list_array, axis = 0)\n",
    "    Area_std = np.std(Approx_areas_list_array, axis = 0)\n",
    "    Error = np.abs(Area_means - Area_means[-1])\n",
    "\n",
    "\n",
    "    std_lower = Area_means - Area_std\n",
    "    std_upper = Area_means + Area_std\n",
    "    \n",
    "    fig,ax = plt.subplots()\n",
    "    ax.plot(iteration_range, Area_means, color = \"red\")\n",
    "    ax.fill_between(iteration_range, std_lower, std_upper, color='red', alpha=0.1)\n",
    "\n",
    "    ax2=ax.twinx()\n",
    "    ax2.plot(iteration_range, Error, color = \"black\", linestyle='dashed')\n",
    "    \n",
    "    \n",
    "    ax.set_xlabel(\"Number of iteration (I)\")\n",
    "    ax.set_xscale('log')\n",
    "    ax.set_ylabel(\"Mean approximated area\")\n",
    "    ax.set_ylim(1.4, 1.6)\n",
    "    ax2.set_ylabel(\"Difference mean area (|Aj - Ai|)\")\n",
    "\n",
    "    plt.grid()\n",
    "    plt.show()"
   ]
  },
  {
   "cell_type": "code",
   "execution_count": 224,
   "id": "5acf64ad",
   "metadata": {},
   "outputs": [],
   "source": [
    "Approx_areas_list_I, iteration_range_I = I_iter(sample_size = int(1e4), n_runs = 10, I_min_exp = 3, I_max_exp = 7)"
   ]
  },
  {
   "cell_type": "code",
   "execution_count": 225,
   "id": "a47ef0ce",
   "metadata": {},
   "outputs": [],
   "source": [
    "Approx_areas_list_array_I = np.array(Approx_areas_list_I)\n",
    "Area_means_I = np.mean(Approx_areas_list_array_I, axis = 0)\n",
    "Area_std_I = np.std(Approx_areas_list_array_I, axis = 0)\n",
    "Error_I = np.abs(Area_means_I - Area_means_I[-1])"
   ]
  },
  {
   "cell_type": "code",
   "execution_count": 226,
   "id": "9ac9ed25",
   "metadata": {},
   "outputs": [
    {
     "name": "stdout",
     "output_type": "stream",
     "text": [
      "Means:  [1.503936  1.5144864 1.4999712 1.4990304 1.5127392]\n",
      "Error:  [0.0088032 0.0017472 0.012768  0.0137088 0.       ]\n",
      "Std:  [0.01546768 0.02222086 0.03129017 0.02530872 0.02208509]\n"
     ]
    }
   ],
   "source": [
    "print(\"Means: \", Area_means_I)\n",
    "print(\"Error: \", Error_I)\n",
    "print(\"Std: \", Area_std_I)"
   ]
  },
  {
   "cell_type": "code",
   "execution_count": 227,
   "id": "67cea502",
   "metadata": {},
   "outputs": [
    {
     "data": {
      "image/png": "[encoded data removed]",
      "text/plain": [
       "<Figure size 432x288 with 2 Axes>"
      ]
     },
     "metadata": {
      "needs_background": "light"
     },
     "output_type": "display_data"
    }
   ],
   "source": [
    "Plotter_I(Approx_areas_list_I, iteration_range_I)"
   ]
  },
  {
   "cell_type": "markdown",
   "id": "c5cad4e2",
   "metadata": {},
   "source": [
    "Comment on plot: The size of the standard deviation is caused by the sample size, so that won't change. IT is strange though that the number of iterations has very little impact on convergence. Either we need to increase the amount of samples and runs (perhaps the variability is caused by not an accurate representation), or perhaps the number of iterations has little impact. I could also increase it still, but it takes quite a while to run. "
   ]
  },
  {
   "cell_type": "code",
   "execution_count": null,
   "id": "cd029fb8",
   "metadata": {},
   "outputs": [],
   "source": []
  }
 ],
 "metadata": {
  "kernelspec": {
   "display_name": "Python 3 (ipykernel)",
   "language": "python",
   "name": "python3"
  },
  "language_info": {
   "codemirror_mode": {
    "name": "ipython",
    "version": 3
   },
   "file_extension": ".py",
   "mimetype": "text/x-python",
   "name": "python",
   "nbconvert_exporter": "python",
   "pygments_lexer": "ipython3",
   "version": "3.8.12"
  }
 },
 "nbformat": 4,
 "nbformat_minor": 5
}
