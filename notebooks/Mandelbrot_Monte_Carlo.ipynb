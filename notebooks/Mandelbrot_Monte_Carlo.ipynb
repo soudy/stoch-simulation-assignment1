{
 "cells": [
  {
   "cell_type": "markdown",
   "id": "69b06fca",
   "metadata": {},
   "source": [
    "# Mandelbrot Set\n",
    "The Mandelbrot set is the set of complex numbers $c$ for which the absolute value of the sequence $z_n$ remains bounded for all $n > 0$, where $z_n$ is:\n",
    "$$\n",
    "\\begin{align}\n",
    "z_0 &= 0, \\\\\n",
    "z_{n+1} &= z_n^2 + c.\n",
    "\\end{align}\n",
    "$$\n",
    "For any complex number $c$, one of two things will happen:\n",
    "- The sequence blows up to infinity ($|z_n| \\gt 2$)\n",
    "- The sequence if bounded ($|z_n| \\le 2$)\n",
    "\n",
    "Then, $c$ belongs to the Mandelbrot set $M$ if the second case ($|z_n| \\le 2$) holds:\n",
    "$$\n",
    "M = \\{c \\in \\mathbb{C} \\mid \\lvert z_n \\rvert \\le 2 \\}.\n",
    "$$"
   ]
  },
  {
   "cell_type": "code",
   "execution_count": 2,
   "id": "804f132d",
   "metadata": {},
   "outputs": [],
   "source": [
    "#imports\n",
    "import numpy as np"
   ]
  },
  {
   "cell_type": "code",
   "execution_count": 3,
   "id": "a43df49e",
   "metadata": {},
   "outputs": [],
   "source": [
    "from cpp_stoch import (\n",
    "    f_c as f_c_cpp,\n",
    "    mandelbrot_grid,\n",
    "    set_num_threads,\n",
    "    get_num_threads\n",
    ")"
   ]
  },
  {
   "cell_type": "code",
   "execution_count": 4,
   "id": "85a2321d",
   "metadata": {},
   "outputs": [],
   "source": [
    "def Monte_carlo(sample_size, max_iter):\n",
    "    X_LB, X_UP = -2, 1\n",
    "    Y_LB, Y_UP = -1.12, 1.12\n",
    "    \n",
    "    samples_in_set = 0\n",
    "    for i in range(sample_size):\n",
    "        x = np.random.uniform(-2, 1)\n",
    "        y = np.random.uniform(-1.12, 1.12)\n",
    "        c = complex(x,y)\n",
    "        \n",
    "        End_value_tuple = f_c_cpp(c, max_iter, 2)\n",
    "        x_final = End_value_tuple[0].real\n",
    "        y_final = End_value_tuple[0].imag\n",
    "        \n",
    "        #Check if it is in set:  |z| <= 2\n",
    "        if ((x_final**2 + y_final**2) <=  4):\n",
    "            samples_in_set += 1\n",
    "    \n",
    "    fraction = samples_in_set/sample_size\n",
    "    Approx_area = (X_UP - X_LB)*(Y_UP - Y_LB)*fraction\n",
    "    return Approx_area "
   ]
  },
  {
   "cell_type": "code",
   "execution_count": 14,
   "id": "428cfe71",
   "metadata": {},
   "outputs": [
    {
     "data": {
      "text/plain": [
       "(1.4535360000000002, 1.497552, 1.5039360000000002)"
      ]
     },
     "execution_count": 14,
     "metadata": {},
     "output_type": "execute_result"
    }
   ],
   "source": [
    "#Stochastic!\n",
    "Monte_carlo(sample_size = 20000, max_iter = 1000000),\\\n",
    "Monte_carlo(sample_size = 20000, max_iter = 1000000),\\\n",
    "Monte_carlo(sample_size = 20000, max_iter = 1000000)"
   ]
  },
  {
   "cell_type": "code",
   "execution_count": 31,
   "id": "da630af0",
   "metadata": {},
   "outputs": [],
   "source": [
    "def Test_plot(max_iter, n_runs):\n",
    "    Approx_areas_list = []\n",
    "    sample_size_range = np.logspace(2, 6, num = 5, dtype = int)\n",
    "   \n",
    "    for run in range(n_runs): \n",
    "        Approx_area_list = []\n",
    "        \n",
    "        for sample_size in sample_size_range:\n",
    "            Approx_area = Monte_carlo(sample_size = sample_size, max_iter = max_iter)\n",
    "            Approx_area_list.append(Approx_area)  \n",
    "        \n",
    "        Approx_areas_list.append(Approx_area_list)\n",
    "            \n",
    "    return Approx_areas_list\n",
    "        "
   ]
  },
  {
   "cell_type": "code",
   "execution_count": 38,
   "id": "e7f5da59",
   "metadata": {},
   "outputs": [],
   "source": [
    "Approx_areas_list = Test_plot(max_iter = 100, n_runs = 4)"
   ]
  },
  {
   "cell_type": "code",
   "execution_count": 45,
   "id": "4f55fbc6",
   "metadata": {},
   "outputs": [],
   "source": [
    "Approx_areas_list_array = np.array(Approx_areas_list)\n",
    "Area_means = np.mean(Approx_areas_list_array, axis = 0)\n",
    "Area_std = np.std(Approx_areas_list_array, axis = 0)\n",
    "Error = np.abs(Area_means - Area_means[-1])"
   ]
  },
  {
   "cell_type": "code",
   "execution_count": 47,
   "id": "9404b0a6",
   "metadata": {},
   "outputs": [
    {
     "name": "stdout",
     "output_type": "stream",
     "text": [
      "Means:  [1.5624     1.45992    1.519728   1.5479352  1.54625016]\n",
      "Error:  [0.01614984 0.08633016 0.02652216 0.00168504 0.        ]\n",
      "Std:  [0.0732295  0.07726174 0.01815955 0.00668266 0.00217614]\n"
     ]
    }
   ],
   "source": [
    "print(\"Means: \", Area_means)\n",
    "print(\"Error: \", Error)\n",
    "print(\"Std: \", Area_std)"
   ]
  },
  {
   "cell_type": "code",
   "execution_count": 60,
   "id": "c0e548c7",
   "metadata": {},
   "outputs": [],
   "source": [
    "def Test_plot_S(sample_size, n_runs):\n",
    "    Approx_areas_list = []\n",
    "    iteration_range = np.logspace(2, 7, num = 6, dtype = int)\n",
    "   \n",
    "    for run in range(n_runs): \n",
    "        Approx_area_list = []\n",
    "        \n",
    "        for max_iter in iteration_range:\n",
    "            Approx_area = Monte_carlo(sample_size = sample_size, max_iter = max_iter)\n",
    "            Approx_area_list.append(Approx_area)  \n",
    "        \n",
    "        Approx_areas_list.append(Approx_area_list)\n",
    "            \n",
    "    return Approx_areas_list"
   ]
  },
  {
   "cell_type": "code",
   "execution_count": 61,
   "id": "5acf64ad",
   "metadata": {},
   "outputs": [],
   "source": [
    "Approx_areas_list_S = Test_plot_S(sample_size = 2000, n_runs = 4)"
   ]
  },
  {
   "cell_type": "code",
   "execution_count": 62,
   "id": "a47ef0ce",
   "metadata": {},
   "outputs": [],
   "source": [
    "Approx_areas_list_array_S = np.array(Approx_areas_list_S)\n",
    "Area_means_S = np.mean(Approx_areas_list_array_S, axis = 0)\n",
    "Area_std_S = np.std(Approx_areas_list_array_S, axis = 0)\n",
    "Error_S = np.abs(Area_means_S - Area_means_S[-1])"
   ]
  },
  {
   "cell_type": "code",
   "execution_count": 63,
   "id": "9ac9ed25",
   "metadata": {},
   "outputs": [
    {
     "name": "stdout",
     "output_type": "stream",
     "text": [
      "Means:  [1.60944 1.50864 1.54896 1.51032 1.48764 1.51116]\n",
      "Error:  [0.09828 0.00252 0.0378  0.00084 0.02352 0.     ]\n",
      "Std:  [0.03106865 0.037641   0.06094488 0.08840376 0.07941888 0.0287447 ]\n"
     ]
    }
   ],
   "source": [
    "print(\"Means: \", Area_means_S)\n",
    "print(\"Error: \", Error_S)\n",
    "print(\"Std: \", Area_std_S)"
   ]
  },
  {
   "cell_type": "code",
   "execution_count": null,
   "id": "67cea502",
   "metadata": {},
   "outputs": [],
   "source": []
  }
 ],
 "metadata": {
  "kernelspec": {
   "display_name": "Python 3 (ipykernel)",
   "language": "python",
   "name": "python3"
  },
  "language_info": {
   "codemirror_mode": {
    "name": "ipython",
    "version": 3
   },
   "file_extension": ".py",
   "mimetype": "text/x-python",
   "name": "python",
   "nbconvert_exporter": "python",
   "pygments_lexer": "ipython3",
   "version": "3.8.12"
  }
 },
 "nbformat": 4,
 "nbformat_minor": 5
}
